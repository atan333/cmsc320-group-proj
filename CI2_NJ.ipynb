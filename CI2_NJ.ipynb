{
  "nbformat": 4,
  "nbformat_minor": 0,
  "metadata": {
    "colab": {
      "provenance": []
    },
    "kernelspec": {
      "name": "python3",
      "display_name": "Python 3"
    },
    "language_info": {
      "name": "python"
    }
  },
  "cells": [
    {
      "cell_type": "code",
      "execution_count": null,
      "metadata": {
        "id": "K7s9F6cq0LcT"
      },
      "outputs": [],
      "source": [
        "import os\n",
        "import pandas as pd\n",
        "import matplotlib.pyplot as plt\n",
        "import seaborn as sns\n",
        "from scipy import stats"
      ]
    },
    {
      "cell_type": "markdown",
      "source": [
        "## T-Test Design\n",
        "\n",
        "**Research Question:** Does being on supplemental oxygen (\"On_Oxygen\") significantly affect patients' mean oxygen saturation?\n",
        "\n",
        "**Groups:**\n",
        "*   Group 1 (0): Not on oxygen\n",
        "*   Group 2 (1): On oxygen\n",
        "\n",
        "**Variable:** Oxygen_Saturation\n",
        "\n",
        "## Hypotheses\n",
        "*   **Null Hypothesis:** There is no difference in mean oxygen saturation between patients on oxygen vs. those not on oxygen.\n",
        "*   **Alternative Hypothesis:** There is a difference in mean oxygen saturation between the two groups.\n",
        "\n",
        "**This is a two-sample, two-tailed t-test.**\n",
        "\n",
        "## Assumptions\n",
        "*   Independence: Each pateint is unique.\n",
        "*   Normality: With n approximately 1000, CLT supports near-normal mean distribution."
      ],
      "metadata": {
        "id": "0V-R4PpkF6OD"
      }
    },
    {
      "cell_type": "code",
      "source": [
        "df = pd.read_csv(\"health-risk-prediction-anonymized-real-data/Health_Risk_Dataset.csv\")\n",
        "#df = pd.read_csv(\"sample_data/Health_Risk_Dataset.csv\")\n",
        "\n",
        "\n",
        "group_on = df[df['On_Oxygen'] == 1]['Oxygen_Saturation']\n",
        "group_off = df[df['On_Oxygen'] == 0]['Oxygen_Saturation']\n",
        "\n",
        "t_stat, p_val = stats.ttest_ind(group_on, group_off, equal_var=False)\n",
        "\n",
        "print(f\"T-statistic = {t_stat:.3f}, p-value = {p_val:.30f}\")\n",
        "\n",
        "sns.boxplot(x=\"On_Oxygen\", y=\"Oxygen_Saturation\", data=df)"
      ],
      "metadata": {
        "colab": {
          "base_uri": "https://localhost:8080/",
          "height": 485
        },
        "id": "vx4op-CKGMKr",
        "outputId": "3c4e7b1d-4afd-49fb-ee04-928de3d5c90c"
      },
      "execution_count": null,
      "outputs": [
        {
          "output_type": "stream",
          "name": "stdout",
          "text": [
            "T-statistic = -11.896, p-value = 0.000000000000000000000000000421\n"
          ]
        },
        {
          "output_type": "execute_result",
          "data": {
            "text/plain": [
              "<Axes: xlabel='On_Oxygen', ylabel='Oxygen_Saturation'>"
            ]
          },
          "metadata": {},
          "execution_count": 6
        },
        {
          "output_type": "display_data",
          "data": {
            "text/plain": [
              "<Figure size 640x480 with 1 Axes>"
            ],
            "image/png": "[encoded data removed]"
          },
          "metadata": {}
        }
      ]
    },
    {
      "cell_type": "markdown",
      "source": [
        "## Conclusion\n",
        "Since p < 0.005: We reject the Null Hypothesis. Thus, Oxygen therapy is associated with different mean oxygen saturation.\n",
        "\n",
        "**Note:** There were multiple outliers found in the non-oxygenated group, with many of them having uncommonly high oxygen saturations pre-oxygen therapy."
      ],
      "metadata": {
        "id": "ZYkDlgkqIxxm"
      }
    }
  ]
}