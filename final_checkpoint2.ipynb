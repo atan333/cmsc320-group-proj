{
 "cells": [
  {
   "cell_type": "code",
   "execution_count": null,
   "id": "156f82ea-20d8-431c-9054-1992bcade800",
   "metadata": {},
   "outputs": [],
   "source": [
    "# Checkpoint 2\n",
    "## Abhinav Akinapalli, Nathan James, Laila Shakoor, Amy Tan"
   ]
  },
  {
   "cell_type": "markdown",
   "id": "7ff6018f-60c1-406b-9cc1-2e7a24d6986f",
   "metadata": {},
   "source": [
    "# Data Pre-Processing"
   ]
  },
  {
   "cell_type": "code",
   "execution_count": 77,
   "id": "97506dcc-dd85-4b9f-96e3-0b4292834b3a",
   "metadata": {},
   "outputs": [],
   "source": [
    "import pandas as pd\n",
    "import numpy as np\n",
    "import matplotlib.pyplot as plt\n",
    "import scipy.stats as stats\n",
    "import seaborn as sns\n",
    "from statsmodels.stats.multicomp import pairwise_tukeyhsd"
   ]
  },
  {
   "cell_type": "code",
   "execution_count": 57,
   "id": "f9b93ee4-4ce4-4bd5-b9b7-bdc590bba64b",
   "metadata": {},
   "outputs": [
    {
     "data": {
      "text/html": [
       "<div>\n",
       "<style scoped>\n",
       "    .dataframe tbody tr th:only-of-type {\n",
       "        vertical-align: middle;\n",
       "    }\n",
       "\n",
       "    .dataframe tbody tr th {\n",
       "        vertical-align: top;\n",
       "    }\n",
       "\n",
       "    .dataframe thead th {\n",
       "        text-align: right;\n",
       "    }\n",
       "</style>\n",
       "<table border=\"1\" class=\"dataframe\">\n",
       "  <thead>\n",
       "    <tr style=\"text-align: right;\">\n",
       "      <th></th>\n",
       "      <th>Patient_ID</th>\n",
       "      <th>Respiratory_Rate</th>\n",
       "      <th>Oxygen_Saturation</th>\n",
       "      <th>O2_Scale</th>\n",
       "      <th>Systolic_BP</th>\n",
       "      <th>Heart_Rate</th>\n",
       "      <th>Temperature</th>\n",
       "      <th>Consciousness</th>\n",
       "      <th>On_Oxygen</th>\n",
       "      <th>Risk_Level</th>\n",
       "    </tr>\n",
       "  </thead>\n",
       "  <tbody>\n",
       "    <tr>\n",
       "      <th>0</th>\n",
       "      <td>P0522</td>\n",
       "      <td>25</td>\n",
       "      <td>96</td>\n",
       "      <td>1</td>\n",
       "      <td>97</td>\n",
       "      <td>107</td>\n",
       "      <td>37.5</td>\n",
       "      <td>A</td>\n",
       "      <td>0</td>\n",
       "      <td>Medium</td>\n",
       "    </tr>\n",
       "    <tr>\n",
       "      <th>1</th>\n",
       "      <td>P0738</td>\n",
       "      <td>28</td>\n",
       "      <td>92</td>\n",
       "      <td>2</td>\n",
       "      <td>116</td>\n",
       "      <td>151</td>\n",
       "      <td>38.5</td>\n",
       "      <td>P</td>\n",
       "      <td>1</td>\n",
       "      <td>High</td>\n",
       "    </tr>\n",
       "    <tr>\n",
       "      <th>2</th>\n",
       "      <td>P0741</td>\n",
       "      <td>29</td>\n",
       "      <td>91</td>\n",
       "      <td>1</td>\n",
       "      <td>79</td>\n",
       "      <td>135</td>\n",
       "      <td>38.4</td>\n",
       "      <td>A</td>\n",
       "      <td>0</td>\n",
       "      <td>High</td>\n",
       "    </tr>\n",
       "    <tr>\n",
       "      <th>3</th>\n",
       "      <td>P0661</td>\n",
       "      <td>24</td>\n",
       "      <td>96</td>\n",
       "      <td>1</td>\n",
       "      <td>95</td>\n",
       "      <td>92</td>\n",
       "      <td>37.3</td>\n",
       "      <td>A</td>\n",
       "      <td>0</td>\n",
       "      <td>Medium</td>\n",
       "    </tr>\n",
       "    <tr>\n",
       "      <th>4</th>\n",
       "      <td>P0412</td>\n",
       "      <td>20</td>\n",
       "      <td>96</td>\n",
       "      <td>1</td>\n",
       "      <td>97</td>\n",
       "      <td>97</td>\n",
       "      <td>37.4</td>\n",
       "      <td>A</td>\n",
       "      <td>0</td>\n",
       "      <td>Low</td>\n",
       "    </tr>\n",
       "  </tbody>\n",
       "</table>\n",
       "</div>"
      ],
      "text/plain": [
       "  Patient_ID  Respiratory_Rate  Oxygen_Saturation  O2_Scale  Systolic_BP  \\\n",
       "0      P0522                25                 96         1           97   \n",
       "1      P0738                28                 92         2          116   \n",
       "2      P0741                29                 91         1           79   \n",
       "3      P0661                24                 96         1           95   \n",
       "4      P0412                20                 96         1           97   \n",
       "\n",
       "   Heart_Rate  Temperature Consciousness  On_Oxygen Risk_Level  \n",
       "0         107         37.5             A          0     Medium  \n",
       "1         151         38.5             P          1       High  \n",
       "2         135         38.4             A          0       High  \n",
       "3          92         37.3             A          0     Medium  \n",
       "4          97         37.4             A          0        Low  "
      ]
     },
     "execution_count": 57,
     "metadata": {},
     "output_type": "execute_result"
    }
   ],
   "source": [
    "df = pd.read_csv(\"health-risk-prediction-anonymized-real-data/Health_Risk_Dataset.csv\")\n",
    "df.head()"
   ]
  },
  {
   "cell_type": "code",
   "execution_count": 59,
   "id": "8d3b98ee-0694-4880-8dcc-952fa6db8b8b",
   "metadata": {},
   "outputs": [
    {
     "name": "stdout",
     "output_type": "stream",
     "text": [
      "<class 'pandas.core.frame.DataFrame'>\n",
      "RangeIndex: 1000 entries, 0 to 999\n",
      "Data columns (total 10 columns):\n",
      " #   Column             Non-Null Count  Dtype  \n",
      "---  ------             --------------  -----  \n",
      " 0   Patient_ID         1000 non-null   object \n",
      " 1   Respiratory_Rate   1000 non-null   int64  \n",
      " 2   Oxygen_Saturation  1000 non-null   int64  \n",
      " 3   O2_Scale           1000 non-null   int64  \n",
      " 4   Systolic_BP        1000 non-null   int64  \n",
      " 5   Heart_Rate         1000 non-null   int64  \n",
      " 6   Temperature        1000 non-null   float64\n",
      " 7   Consciousness      1000 non-null   object \n",
      " 8   On_Oxygen          1000 non-null   int64  \n",
      " 9   Risk_Level         1000 non-null   object \n",
      "dtypes: float64(1), int64(6), object(3)\n",
      "memory usage: 78.3+ KB\n"
     ]
    }
   ],
   "source": [
    "df.info()"
   ]
  },
  {
   "cell_type": "code",
   "execution_count": 61,
   "id": "f7f783f7-b958-4548-933f-ae4d17e43ce9",
   "metadata": {},
   "outputs": [
    {
     "data": {
      "text/html": [
       "<div>\n",
       "<style scoped>\n",
       "    .dataframe tbody tr th:only-of-type {\n",
       "        vertical-align: middle;\n",
       "    }\n",
       "\n",
       "    .dataframe tbody tr th {\n",
       "        vertical-align: top;\n",
       "    }\n",
       "\n",
       "    .dataframe thead th {\n",
       "        text-align: right;\n",
       "    }\n",
       "</style>\n",
       "<table border=\"1\" class=\"dataframe\">\n",
       "  <thead>\n",
       "    <tr style=\"text-align: right;\">\n",
       "      <th></th>\n",
       "      <th>Respiratory_Rate</th>\n",
       "      <th>Oxygen_Saturation</th>\n",
       "      <th>O2_Scale</th>\n",
       "      <th>Systolic_BP</th>\n",
       "      <th>Heart_Rate</th>\n",
       "      <th>Temperature</th>\n",
       "      <th>On_Oxygen</th>\n",
       "    </tr>\n",
       "  </thead>\n",
       "  <tbody>\n",
       "    <tr>\n",
       "      <th>count</th>\n",
       "      <td>1000.000000</td>\n",
       "      <td>1000.00000</td>\n",
       "      <td>1000.000000</td>\n",
       "      <td>1000.000000</td>\n",
       "      <td>1000.000000</td>\n",
       "      <td>1000.000000</td>\n",
       "      <td>1000.000000</td>\n",
       "    </tr>\n",
       "    <tr>\n",
       "      <th>mean</th>\n",
       "      <td>21.511000</td>\n",
       "      <td>92.59000</td>\n",
       "      <td>1.124000</td>\n",
       "      <td>106.160000</td>\n",
       "      <td>98.460000</td>\n",
       "      <td>37.921000</td>\n",
       "      <td>0.274000</td>\n",
       "    </tr>\n",
       "    <tr>\n",
       "      <th>std</th>\n",
       "      <td>5.287517</td>\n",
       "      <td>4.47302</td>\n",
       "      <td>0.329746</td>\n",
       "      <td>17.897562</td>\n",
       "      <td>19.694626</td>\n",
       "      <td>1.113696</td>\n",
       "      <td>0.446232</td>\n",
       "    </tr>\n",
       "    <tr>\n",
       "      <th>min</th>\n",
       "      <td>12.000000</td>\n",
       "      <td>74.00000</td>\n",
       "      <td>1.000000</td>\n",
       "      <td>50.000000</td>\n",
       "      <td>60.000000</td>\n",
       "      <td>35.600000</td>\n",
       "      <td>0.000000</td>\n",
       "    </tr>\n",
       "    <tr>\n",
       "      <th>25%</th>\n",
       "      <td>17.000000</td>\n",
       "      <td>90.00000</td>\n",
       "      <td>1.000000</td>\n",
       "      <td>94.000000</td>\n",
       "      <td>84.000000</td>\n",
       "      <td>37.100000</td>\n",
       "      <td>0.000000</td>\n",
       "    </tr>\n",
       "    <tr>\n",
       "      <th>50%</th>\n",
       "      <td>20.000000</td>\n",
       "      <td>94.00000</td>\n",
       "      <td>1.000000</td>\n",
       "      <td>109.000000</td>\n",
       "      <td>95.500000</td>\n",
       "      <td>37.800000</td>\n",
       "      <td>0.000000</td>\n",
       "    </tr>\n",
       "    <tr>\n",
       "      <th>75%</th>\n",
       "      <td>25.000000</td>\n",
       "      <td>96.00000</td>\n",
       "      <td>1.000000</td>\n",
       "      <td>119.000000</td>\n",
       "      <td>109.000000</td>\n",
       "      <td>38.600000</td>\n",
       "      <td>1.000000</td>\n",
       "    </tr>\n",
       "    <tr>\n",
       "      <th>max</th>\n",
       "      <td>40.000000</td>\n",
       "      <td>100.00000</td>\n",
       "      <td>2.000000</td>\n",
       "      <td>146.000000</td>\n",
       "      <td>163.000000</td>\n",
       "      <td>41.800000</td>\n",
       "      <td>1.000000</td>\n",
       "    </tr>\n",
       "  </tbody>\n",
       "</table>\n",
       "</div>"
      ],
      "text/plain": [
       "       Respiratory_Rate  Oxygen_Saturation     O2_Scale  Systolic_BP  \\\n",
       "count       1000.000000         1000.00000  1000.000000  1000.000000   \n",
       "mean          21.511000           92.59000     1.124000   106.160000   \n",
       "std            5.287517            4.47302     0.329746    17.897562   \n",
       "min           12.000000           74.00000     1.000000    50.000000   \n",
       "25%           17.000000           90.00000     1.000000    94.000000   \n",
       "50%           20.000000           94.00000     1.000000   109.000000   \n",
       "75%           25.000000           96.00000     1.000000   119.000000   \n",
       "max           40.000000          100.00000     2.000000   146.000000   \n",
       "\n",
       "        Heart_Rate  Temperature    On_Oxygen  \n",
       "count  1000.000000  1000.000000  1000.000000  \n",
       "mean     98.460000    37.921000     0.274000  \n",
       "std      19.694626     1.113696     0.446232  \n",
       "min      60.000000    35.600000     0.000000  \n",
       "25%      84.000000    37.100000     0.000000  \n",
       "50%      95.500000    37.800000     0.000000  \n",
       "75%     109.000000    38.600000     1.000000  \n",
       "max     163.000000    41.800000     1.000000  "
      ]
     },
     "execution_count": 61,
     "metadata": {},
     "output_type": "execute_result"
    }
   ],
   "source": [
    "df.describe()"
   ]
  },
  {
   "cell_type": "code",
   "execution_count": 63,
   "id": "d5dd4935-f81f-4b46-b26c-84c7ea75d942",
   "metadata": {},
   "outputs": [],
   "source": [
    "# Pre-processing: Converting PatientID to String; Consciousness, On_Oxygen, and Risk_Level to category\n",
    "df[\"Patient_ID\"] = df[\"Patient_ID\"].astype(\"string\")\n",
    "df[\"O2_Scale\"] = df[\"O2_Scale\"].astype(\"category\")\n",
    "df[\"Consciousness\"] = df[\"Consciousness\"].astype(\"category\")\n",
    "df[\"On_Oxygen\"] = df[\"On_Oxygen\"].astype(\"category\")\n",
    "df[\"Risk_Level\"] = df[\"Risk_Level\"].astype(\"category\")"
   ]
  },
  {
   "cell_type": "markdown",
   "id": "4144068c-18ae-4a03-a11c-8114f83d7b55",
   "metadata": {},
   "source": [
    "# Z-Test for Outliers"
   ]
  },
  {
   "cell_type": "markdown",
   "id": "440e2dff-c3a5-4123-a6ba-80728ce095af",
   "metadata": {},
   "source": [
    "Question: Are there extreme outliers (z-score greater than 3) in the continuous features of our Health Risk Prediction dataset?"
   ]
  },
  {
   "cell_type": "code",
   "execution_count": 71,
   "id": "c3dc1c02-2d22-43b5-ba22-1536c5bb80cd",
   "metadata": {},
   "outputs": [
    {
     "name": "stdout",
     "output_type": "stream",
     "text": [
      "\n",
      "Respiratory_Rate: 2 outliers\n",
      "\n",
      "Oxygen_Saturation: 8 outliers\n",
      "\n",
      "Systolic_BP: 2 outliers\n",
      "\n",
      "Heart_Rate: 4 outliers\n",
      "\n",
      "Temperature: 6 outliers\n"
     ]
    }
   ],
   "source": [
    "continuous_features = ['Respiratory_Rate', 'Oxygen_Saturation', 'Systolic_BP',\n",
    "            'Heart_Rate', 'Temperature']\n",
    "\n",
    "for col in continuous_features:\n",
    "    z = (df[col] - df[col].mean()) / df[col].std()\n",
    "    df[f'{col}_Z'] = z\n",
    "    outliers = df[np.abs(z) > 3]\n",
    "    print(f\"\\n{col}: {len(outliers)} outliers\")"
   ]
  },
  {
   "cell_type": "markdown",
   "id": "d66c0150-0984-4156-ae3c-e7b79d8c84d7",
   "metadata": {},
   "source": [
    "# Visualization"
   ]
  },
  {
   "cell_type": "code",
   "execution_count": 73,
   "id": "334a961a-ec90-43ab-b587-c200f6d83448",
   "metadata": {},
   "outputs": [
    {
     "data": {
      "image/png": "[encoded data removed]",
      "text/plain": [
       "<Figure size 1000x600 with 1 Axes>"
      ]
     },
     "metadata": {},
     "output_type": "display_data"
    }
   ],
   "source": [
    "plt.figure(figsize=(10, 6))\n",
    "sns.boxplot(data=df[continuous_features], orient='h', flierprops={'marker': 'o', 'markersize': 5, 'markerfacecolor': 'red'})\n",
    "plt.title(\"Boxplot of Continuous Features (Outliers are shown as points)\")\n",
    "plt.xlabel(\"Feature Values\")\n",
    "plt.show()"
   ]
  },
  {
   "cell_type": "markdown",
   "id": "0281d0e3-2119-45ad-b1f3-3fdbf8c53fd8",
   "metadata": {},
   "source": [
    "# Conclusion 1:"
   ]
  },
  {
   "cell_type": "markdown",
   "id": "58fb3a6f-5d55-42e2-b327-603a9aed963e",
   "metadata": {},
   "source": [
    "There are 2-8 outliers (z-score greater than 3) in each continuous column of the dataset."
   ]
  },
  {
   "cell_type": "markdown",
   "id": "fd86b857-e760-4943-8265-63743ae36576",
   "metadata": {},
   "source": [
    "# T-Test Design for Oxygen Saturation"
   ]
  },
  {
   "cell_type": "markdown",
   "id": "a4000fc9-05f4-47a6-a50a-461706feb1e2",
   "metadata": {},
   "source": [
    "**Research Question**: Does being on supplemental oxygen (\"On_Oxygen\") significantly affect patients' mean oxygen saturation?\n",
    "\n",
    "**Groups:**\n",
    "- Group 1 (0): Not on oxygen\n",
    "- Group 2 (1): On oxygen\n",
    "  \n",
    "**Variable**: Oxygen_Saturation"
   ]
  },
  {
   "cell_type": "markdown",
   "id": "058b27c2-7829-4d5a-8886-1db3e83a9609",
   "metadata": {},
   "source": [
    "# Hypotheses"
   ]
  },
  {
   "cell_type": "markdown",
   "id": "f90a2e6b-2d06-4b59-a858-e115634e2634",
   "metadata": {},
   "source": [
    "- **Null Hypothesis**: There is no difference in mean oxygen saturation between patients on oxygen vs. those not on oxygen.\n",
    "- **Alternative Hypothesis**: Being on supplemental oxygen changes the mean oxygen saturation between the two groups.\n",
    "This is a two-sample, two-tailed t-test."
   ]
  },
  {
   "cell_type": "markdown",
   "id": "ea849184-b844-4c7b-87c1-06e21a2c1fc6",
   "metadata": {},
   "source": [
    "# Assumptions"
   ]
  },
  {
   "cell_type": "markdown",
   "id": "61c2f5fd-b917-4da8-ba3b-39a8ef1e4bb5",
   "metadata": {},
   "source": [
    "- Independence: Each pateint is unique.\n",
    "- Normality: With n approximately 1000, CLT supports near-normal mean distribution."
   ]
  },
  {
   "cell_type": "code",
   "execution_count": 79,
   "id": "92d2bf63-38a4-499f-8b7d-bc0100e3a39d",
   "metadata": {},
   "outputs": [
    {
     "name": "stdout",
     "output_type": "stream",
     "text": [
      "T-statistic = -11.896, p-value = 0.000000000000000000000000000421\n"
     ]
    },
    {
     "data": {
      "text/plain": [
       "<Axes: xlabel='On_Oxygen', ylabel='Oxygen_Saturation'>"
      ]
     },
     "execution_count": 79,
     "metadata": {},
     "output_type": "execute_result"
    },
    {
     "data": {
      "image/png": "[encoded data removed]",
      "text/plain": [
       "<Figure size 640x480 with 1 Axes>"
      ]
     },
     "metadata": {},
     "output_type": "display_data"
    }
   ],
   "source": [
    "df = pd.read_csv(\"health-risk-prediction-anonymized-real-data/Health_Risk_Dataset.csv\")\n",
    "\n",
    "group_on = df[df['On_Oxygen'] == 1]['Oxygen_Saturation']\n",
    "group_off = df[df['On_Oxygen'] == 0]['Oxygen_Saturation']\n",
    "\n",
    "t_stat, p_val = stats.ttest_ind(group_on, group_off, equal_var=False)\n",
    "\n",
    "print(f\"T-statistic = {t_stat:.3f}, p-value = {p_val:.30f}\")\n",
    "\n",
    "sns.boxplot(x=\"On_Oxygen\", y=\"Oxygen_Saturation\", data=df)"
   ]
  },
  {
   "cell_type": "markdown",
   "id": "a121408e-be32-499c-9a74-0338018d583f",
   "metadata": {},
   "source": [
    "# Conclusion 2: "
   ]
  },
  {
   "cell_type": "code",
   "execution_count": null,
   "id": "5be8d098-092d-41fd-8579-701105845c1f",
   "metadata": {},
   "outputs": [],
   "source": [
    "Since p < 0.005: We reject the Null Hypothesis. Thus, Oxygen therapy is associated with different mean oxygen saturation.\n",
    "\n",
    "Note: There were multiple outliers found in the non-oxygenated group, with many of them having uncommonly high oxygen saturations pre-oxygen therapy."
   ]
  },
  {
   "cell_type": "markdown",
   "id": "ec63061f-9476-4782-bbb7-bdcdc6855a30",
   "metadata": {},
   "source": [
    "# ANOVA Test for Respiratory Rate On Risk Level"
   ]
  },
  {
   "cell_type": "markdown",
   "id": "a236f76e-a95e-40e5-a11c-1418b8543655",
   "metadata": {},
   "source": [
    "**Question**:\n",
    "Is there a difference in the respiratory rates in each risk category?\n",
    "\n",
    "**Null Hypothesis**:\n",
    "There is no difference in respiratory rates between risk categories.\n",
    "\n",
    "**Alternate Hypothesis**:\n",
    "There is a statisically significant difference in respiratory rates among risk categories."
   ]
  },
  {
   "cell_type": "code",
   "execution_count": 81,
   "id": "a4d646c1-bf48-47fa-a292-4b6ef41619bd",
   "metadata": {},
   "outputs": [
    {
     "name": "stdout",
     "output_type": "stream",
     "text": [
      "ANOVA F-statistic: 724.3706495626739, p-value: 9.680624282634389e-250\n"
     ]
    }
   ],
   "source": [
    "groups = df.groupby(\"Risk_Level\")\n",
    "new_groups = [group[\"Respiratory_Rate\"].values for name, group in groups]\n",
    "f_stat, p_val = stats.f_oneway(*new_groups)\n",
    "print(f\"ANOVA F-statistic: {f_stat}, p-value: {p_val}\")"
   ]
  },
  {
   "cell_type": "markdown",
   "id": "245ea784-0d5b-461a-85de-ce2100c7b2f8",
   "metadata": {},
   "source": [
    "# Post Hoc Analysis"
   ]
  },
  {
   "cell_type": "code",
   "execution_count": 83,
   "id": "3038aae0-9602-4f00-8cd3-9454d769dc96",
   "metadata": {},
   "outputs": [
    {
     "name": "stdout",
     "output_type": "stream",
     "text": [
      " Multiple Comparison of Means - Tukey HSD, FWER=0.05 \n",
      "=====================================================\n",
      "group1 group2 meandiff p-adj  lower    upper   reject\n",
      "-----------------------------------------------------\n",
      "  High    Low  -9.5003   0.0 -10.1621  -8.8384   True\n",
      "  High Medium   -7.031   0.0  -7.6634  -6.3986   True\n",
      "  High Normal -12.0804   0.0  -12.838 -11.3228   True\n",
      "   Low Medium   2.4693   0.0   1.8215    3.117   True\n",
      "   Low Normal  -2.5801   0.0  -3.3506  -1.8097   True\n",
      "Medium Normal  -5.0494   0.0  -5.7947  -4.3041   True\n",
      "-----------------------------------------------------\n"
     ]
    }
   ],
   "source": [
    "tukey = pairwise_tukeyhsd(endog=df[\"Respiratory_Rate\"], groups=df[\"Risk_Level\"], alpha=0.05)\n",
    "print(tukey)"
   ]
  },
  {
   "cell_type": "markdown",
   "id": "5cef29eb-ade2-4910-8ed6-e69e06393e1f",
   "metadata": {},
   "source": [
    "# Visualization"
   ]
  },
  {
   "cell_type": "code",
   "execution_count": 85,
   "id": "316c9a8e-cda2-4d55-9f1b-b0484a160a1e",
   "metadata": {},
   "outputs": [
    {
     "data": {
      "image/png": "[encoded data removed]",
      "text/plain": [
       "<Figure size 640x480 with 1 Axes>"
      ]
     },
     "metadata": {},
     "output_type": "display_data"
    }
   ],
   "source": [
    "sns.boxplot(x=\"Risk_Level\", y=\"Respiratory_Rate\", data=df, order=[\"Normal\", \"Low\", \"Medium\", \"High\"])\n",
    "plt.xlabel(\"Risk Level\")\n",
    "plt.ylabel(\"Respiratory Rate\")\n",
    "plt.title(\"Respiratory Rate by Risk Level\")\n",
    "plt.show()"
   ]
  },
  {
   "cell_type": "markdown",
   "id": "83621621-9e41-44f6-a184-940e4131a6fd",
   "metadata": {},
   "source": [
    "# Analysis"
   ]
  },
  {
   "cell_type": "markdown",
   "id": "282c3361-7614-479e-83e4-e80fa0f9eba7",
   "metadata": {},
   "source": [
    "After running a one-way ANOVA on respiratory rates against risk levels, it was found that at least one mean is statistically different among the groups with a p-value less than 0.05. To further investigate this, a post hoc Tukey's HSD was run and determined a relationship such that respiratory rates increase in the following order: normal, low, medium, high. This indicates that each level increase like low to medium, corresponds with an increase in respiratory rate. The data contains outliers with the low, medium, and high levels. However, the data still trends in the direction that an increase in respiratory rate corresponds with an increase in risk level."
   ]
  }
 ],
 "metadata": {
  "kernelspec": {
   "display_name": "Python 3 (ipykernel)",
   "language": "python",
   "name": "python3"
  },
  "language_info": {
   "codemirror_mode": {
    "name": "ipython",
    "version": 3
   },
   "file_extension": ".py",
   "mimetype": "text/x-python",
   "name": "python",
   "nbconvert_exporter": "python",
   "pygments_lexer": "ipython3",
   "version": "3.12.7"
  }
 },
 "nbformat": 4,
 "nbformat_minor": 5
}
